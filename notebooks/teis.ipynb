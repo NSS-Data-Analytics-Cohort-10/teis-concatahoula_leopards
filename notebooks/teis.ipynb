{
 "cells": [
  {
   "cell_type": "code",
   "execution_count": 1,
   "id": "2c9ecb01",
   "metadata": {},
   "outputs": [],
   "source": [
    "import numpy as np\n",
    "import pandas as pd\n",
    "import matplotlib.pyplot as plt\n",
    "import seaborn as sns\n",
    "import re"
   ]
  },
  {
   "cell_type": "markdown",
   "id": "2547b9ac",
   "metadata": {},
   "source": [
    "***Creating the Dataframes that will be used for the Notebook***"
   ]
  },
  {
   "cell_type": "code",
   "execution_count": null,
   "id": "d28e6d91",
   "metadata": {},
   "outputs": [],
   "source": [
    "teis_df=pd.read_excel(r'C:\\Users\\Thund\\NSS_Data_Analytics\\Projects\\TEIS\\teis-concatahoula_leopards\\data\\BDI3 All Evals for NSS 11-2023.xlsx')"
   ]
  },
  {
   "cell_type": "code",
   "execution_count": null,
   "id": "54c698ce",
   "metadata": {},
   "outputs": [],
   "source": [
    "teis_df.head()"
   ]
  },
  {
   "cell_type": "code",
   "execution_count": null,
   "id": "77831099",
   "metadata": {},
   "outputs": [],
   "source": [
    "teis_df.describe()"
   ]
  },
  {
   "cell_type": "code",
   "execution_count": null,
   "id": "953ad740",
   "metadata": {},
   "outputs": [],
   "source": [
    "teis_df=teis_df.drop_duplicates()\n",
    "teis_df.reset_index()\n",
    "teis_df= teis_df.rename(columns={'Location - Sub Level 1':'Location'})"
   ]
  },
  {
   "cell_type": "raw",
   "id": "0c94a924",
   "metadata": {},
   "source": [
    "#checking that duplicates were removed properly\n",
    "check=dupe_free.loc[dupe_free['Child ID']== 404042]\n",
    "check"
   ]
  },
  {
   "cell_type": "code",
   "execution_count": null,
   "id": "23c3c037",
   "metadata": {},
   "outputs": [],
   "source": [
    "#data type checking cell:\n",
    "type(teis_df['Adaptive RDI'][2])"
   ]
  },
  {
   "cell_type": "markdown",
   "id": "ffb00f22",
   "metadata": {},
   "source": [
    "***Cleaning the main dataframe: teis_df***"
   ]
  },
  {
   "cell_type": "code",
   "execution_count": null,
   "id": "70a53e7d",
   "metadata": {},
   "outputs": [],
   "source": [
    "teis_df=teis_df.drop(labels=['Code 1', 'Code 2', 'Code 3', 'Code 4', 'Code 5', 'Code 6', 'Code 7', 'Code 8', 'Code 9', 'Code 10'], axis='columns')"
   ]
  },
  {
   "cell_type": "code",
   "execution_count": null,
   "id": "b428eb4a",
   "metadata": {},
   "outputs": [],
   "source": [
    "teis_df"
   ]
  },
  {
   "cell_type": "code",
   "execution_count": null,
   "id": "fefe2864",
   "metadata": {},
   "outputs": [],
   "source": [
    "teis_df.tail(3297)\n",
    "\n",
    "#no_ids=teis_df.tail(3291)\n",
    "#no_ids"
   ]
  },
  {
   "cell_type": "code",
   "execution_count": null,
   "id": "bf0464b8",
   "metadata": {},
   "outputs": [],
   "source": [
    "counts=teis_df.groupby('Location')['Child ID'].count().reset_index()\n",
    "counts"
   ]
  },
  {
   "cell_type": "code",
   "execution_count": null,
   "id": "845471a2",
   "metadata": {},
   "outputs": [],
   "source": [
    "level_counts = teis_df.groupby('Program Label')['Child ID'].count()\n",
    "level_counts"
   ]
  },
  {
   "cell_type": "code",
   "execution_count": null,
   "id": "12b1d820",
   "metadata": {},
   "outputs": [],
   "source": [
    "domain_df= teis_df[['Child ID', 'Gender', 'Adaptive Developmental Quotient', 'Social-Emotional Developmental Quotient', 'Communication Developmental Quotient', 'Motor Developmental Quotient', 'Cognitive Developmental Quotient']]\n",
    "domain_df"
   ]
  },
  {
   "cell_type": "code",
   "execution_count": null,
   "id": "7e3e4504",
   "metadata": {},
   "outputs": [],
   "source": [
    "n_bins=20\n",
    "fig, axs = plt.subplots(1, 5, sharey=True,figsize=(15,3))\n",
    "\n",
    "axs[0].hist(domain_df['Adaptive Developmental Quotient'], bins=n_bins, histtype='stepfilled')\n",
    "axs[0].set_title('Adaptive')\n",
    "axs[1].hist(domain_df['Social-Emotional Developmental Quotient'], bins=n_bins, histtype='stepfilled')\n",
    "axs[1].set_title('Social-Emotional')\n",
    "axs[2].hist(domain_df['Communication Developmental Quotient'], bins=n_bins, histtype='stepfilled')\n",
    "axs[2].set_title('Communication')\n",
    "axs[3].hist(domain_df['Motor Developmental Quotient'], bins=n_bins, histtype='stepfilled')\n",
    "axs[3].set_title('Motor')\n",
    "axs[4].hist(domain_df['Cognitive Developmental Quotient'], bins=n_bins, histtype='stepfilled')\n",
    "axs[4].set_title('Cognitive')\n",
    "\n"
   ]
  },
  {
   "cell_type": "markdown",
   "id": "84c11be5",
   "metadata": {},
   "source": [
    "u_gender=domain_df.loc[domain_df['Gender']=='U']\n",
    "u_gender"
   ]
  },
  {
   "cell_type": "markdown",
   "id": "166c5b11",
   "metadata": {},
   "source": [
    "****Gathering Averages for each column****"
   ]
  },
  {
   "cell_type": "code",
   "execution_count": null,
   "id": "2438aca5",
   "metadata": {},
   "outputs": [],
   "source": [
    "adaptive_avg = domain_df.groupby('Gender')['Adaptive Developmental Quotient'].agg(np.mean).to_frame()\n",
    "adaptive_avg\n"
   ]
  },
  {
   "cell_type": "code",
   "execution_count": null,
   "id": "0dd9af3b",
   "metadata": {},
   "outputs": [],
   "source": [
    "social_avg = domain_df.groupby('Gender')['Social-Emotional Developmental Quotient'].agg(np.mean).to_frame()\n",
    "social_avg"
   ]
  },
  {
   "cell_type": "code",
   "execution_count": null,
   "id": "6d2a6641",
   "metadata": {},
   "outputs": [],
   "source": [
    "#pulling two averaged columns into a shared data frame to build off of\n",
    "average_df= adaptive_avg.merge(social_avg, how='outer', on='Gender')\n",
    "average_df"
   ]
  },
  {
   "cell_type": "markdown",
   "id": "d94d8b5a",
   "metadata": {},
   "source": [
    "****Averaging the rest of the columns****"
   ]
  },
  {
   "cell_type": "code",
   "execution_count": null,
   "id": "81ee8f80",
   "metadata": {},
   "outputs": [],
   "source": [
    "comm_avg = domain_df.groupby('Gender')['Communication Developmental Quotient'].agg(np.mean).to_frame()\n",
    "comm_avg"
   ]
  },
  {
   "cell_type": "code",
   "execution_count": null,
   "id": "43ea7aa3",
   "metadata": {},
   "outputs": [],
   "source": [
    "motor_avg = domain_df.groupby('Gender')['Motor Developmental Quotient'].agg(np.mean).to_frame()\n",
    "motor_avg"
   ]
  },
  {
   "cell_type": "code",
   "execution_count": null,
   "id": "b535b829",
   "metadata": {},
   "outputs": [],
   "source": [
    "cog_avg = domain_df.groupby('Gender')['Cognitive Developmental Quotient'].agg(np.mean).to_frame()\n",
    "cog_avg"
   ]
  },
  {
   "cell_type": "markdown",
   "id": "41985337",
   "metadata": {},
   "source": [
    "average_df= adaptive_avg.merge(social_avg, how='outer', on='Gender')\n",
    "average_df"
   ]
  },
  {
   "cell_type": "markdown",
   "id": "c16ad775",
   "metadata": {},
   "source": [
    "average_df= average_df.merge(comm_avg, how='outer', on='Gender')\n",
    "average_df"
   ]
  },
  {
   "cell_type": "markdown",
   "id": "80f67d6a",
   "metadata": {},
   "source": [
    "****Merging the averaged columns into 1 dataframe****"
   ]
  },
  {
   "cell_type": "code",
   "execution_count": null,
   "id": "149635d6",
   "metadata": {},
   "outputs": [],
   "source": [
    "average_df= average_df.merge(comm_avg, how='outer', on='Gender')\n",
    "average_df= average_df.merge(motor_avg, how='outer', on='Gender')\n",
    "average_df= average_df.merge(cog_avg, how='outer', on='Gender')\n",
    "average_df.reset_index()"
   ]
  },
  {
   "cell_type": "code",
   "execution_count": null,
   "id": "9d635c94",
   "metadata": {},
   "outputs": [],
   "source": [
    "sns.barplot(data=average_df)\n",
    "plt.title('Average DQ of Domains by Gender')\n",
    "plt.ylabel('Average DQ')\n",
    "plt.xlabel('Domain')\n",
    "plt.xticks(rotation = 50)\n",
    "#plt.savefig('tripsbyday.png')"
   ]
  },
  {
   "cell_type": "markdown",
   "id": "cd39f900",
   "metadata": {},
   "source": [
    "***Adaptive Sub Domain df***"
   ]
  },
  {
   "cell_type": "code",
   "execution_count": null,
   "id": "1094f592",
   "metadata": {},
   "outputs": [],
   "source": [
    "adaptive_sub_df=teis_df[['Child ID','Gender', 'Adaptive-Self Care SS','Adaptive-Personal Responsibility SS']]\n",
    "#adaptive_sub_df.fillna(\"N/A\",inplace=True)\n",
    "adaptive_sub_df"
   ]
  },
  {
   "cell_type": "markdown",
   "id": "eb3afd43",
   "metadata": {},
   "source": [
    "****Gathering the averages for the sub-domain****"
   ]
  },
  {
   "cell_type": "code",
   "execution_count": null,
   "id": "f2b63235",
   "metadata": {},
   "outputs": [],
   "source": [
    "adapt_selfcare_avg = adaptive_sub_df.groupby('Gender')['Adaptive-Self Care SS'].agg(np.mean).to_frame()\n",
    "adapt_selfcare_avg"
   ]
  },
  {
   "cell_type": "code",
   "execution_count": null,
   "id": "d2420a73",
   "metadata": {},
   "outputs": [],
   "source": [
    "adapt_pr_avg = adaptive_sub_df.groupby('Gender')['Adaptive-Personal Responsibility SS'].agg(np.mean).to_frame()\n",
    "adapt_pr_avg"
   ]
  },
  {
   "cell_type": "markdown",
   "id": "62bee8f9",
   "metadata": {},
   "source": [
    "***Adding them together***"
   ]
  },
  {
   "cell_type": "code",
   "execution_count": null,
   "id": "dd5f58c9",
   "metadata": {},
   "outputs": [],
   "source": [
    "adapt_sub_avg= adapt_selfcare_avg.merge(adapt_pr_avg, how='outer', on='Gender')\n",
    "adapt_sub_avg"
   ]
  },
  {
   "cell_type": "markdown",
   "id": "1cba95dc",
   "metadata": {},
   "source": [
    "***Social Emotional***"
   ]
  },
  {
   "cell_type": "code",
   "execution_count": null,
   "id": "22bc50cb",
   "metadata": {},
   "outputs": [],
   "source": [
    "se_sub_df=teis_df[['Child ID','Gender', 'Social Emotional-Adult Interaction SS','Social Emotional-Peer Interaction SS','Social Emotional-Self Concept / Social Role SS']]\n",
    "#se_sub_df.fillna(\"N/A\",inplace=True)\n",
    "se_sub_df\n",
    "\n",
    "se_adult_avg = se_sub_df.groupby('Gender')['Social Emotional-Adult Interaction SS'].agg(np.mean).to_frame()\n",
    "se_adult_avg\n",
    "\n",
    "se_peer_avg = se_sub_df.groupby('Gender')['Social Emotional-Peer Interaction SS'].agg(np.mean).to_frame()\n",
    "se_peer_avg\n",
    "\n",
    "se_self_social_avg = se_sub_df.groupby('Gender')['Social Emotional-Self Concept / Social Role SS'].agg(np.mean).to_frame()\n",
    "se_self_social_avg"
   ]
  },
  {
   "cell_type": "markdown",
   "id": "877938dd",
   "metadata": {},
   "source": [
    "**Adding Them Together - Social-Emotional**"
   ]
  },
  {
   "cell_type": "code",
   "execution_count": null,
   "id": "5629e8b2",
   "metadata": {},
   "outputs": [],
   "source": [
    "adapt_sub_avg= adapt_selfcare_avg.merge(adapt_pr_avg, how='outer', on='Gender')\n",
    "adapt_sub_avg\n",
    "\n",
    "se_sub_avg= se_adult_avg.merge(se_peer_avg, how = 'outer', on='Gender')\n",
    "se_sub_avg\n",
    "\n",
    "se_sub_avg2= se_sub_avg.merge(se_self_social_avg, how = 'outer', on='Gender')\n",
    "se_sub_avg2"
   ]
  },
  {
   "cell_type": "markdown",
   "id": "0c1ad304",
   "metadata": {},
   "source": [
    "***Adding the Examiner Column to investigate trends later on***"
   ]
  },
  {
   "cell_type": "code",
   "execution_count": null,
   "id": "e93077da",
   "metadata": {},
   "outputs": [],
   "source": [
    "domain_df['Examiner']=teis_df['Adaptive-Self Care Examiner']\n",
    "domain_df"
   ]
  },
  {
   "cell_type": "code",
   "execution_count": null,
   "id": "e0f4d30b",
   "metadata": {},
   "outputs": [],
   "source": [
    "n_bins=20\n",
    "fig, axs = plt.subplots(1, 5, sharey=True,figsize=(15,3))\n",
    "\n",
    "axs[0].hist(domain_df['Adaptive Developmental Quotient'], bins=n_bins, histtype='stepfilled')\n",
    "axs[0].set_title('Adaptive')\n",
    "axs[1].hist(domain_df['Social-Emotional Developmental Quotient'], bins=n_bins, histtype='stepfilled')\n",
    "axs[1].set_title('Social-Emotional')\n",
    "axs[2].hist(domain_df['Communication Developmental Quotient'], bins=n_bins, histtype='stepfilled')\n",
    "axs[2].set_title('Communication')\n",
    "axs[3].hist(domain_df['Motor Developmental Quotient'], bins=n_bins, histtype='stepfilled')\n",
    "axs[3].set_title('Motor')\n",
    "axs[4].hist(domain_df['Cognitive Developmental Quotient'], bins=n_bins, histtype='stepfilled')\n",
    "axs[4].set_title('Cognitive')"
   ]
  },
  {
   "cell_type": "markdown",
   "id": "5fdcbd56",
   "metadata": {},
   "source": [
    "***Counting the number of Evaluations by Examiner***"
   ]
  },
  {
   "cell_type": "code",
   "execution_count": null,
   "id": "1ddb0590",
   "metadata": {},
   "outputs": [],
   "source": [
    "examiner_df=teis_df.groupby('Adaptive-Self Care Examiner')['Child ID'].count().sort_values(ascending=False).reset_index(name='Number of Evals')\n",
    "\n",
    "examiner_df['Examiner']=examiner_df['Adaptive-Self Care Examiner']\n",
    "examiner_df\n",
    "\n",
    "#examiner_df_max=examiner_df[examiner_df['Number of Evals'] == examiner_df['Number of Evals'].max()]\n",
    "#print(examiner_df_max)\n",
    "#examiner_df_min=examiner_df[examiner_df['Number of Evals'] == examiner_df['Number of Evals'].min()]\n",
    "#print(examiner_df_min)"
   ]
  },
  {
   "cell_type": "markdown",
   "id": "c242b6c7",
   "metadata": {},
   "source": [
    "***Getting Average Score for each examiner in each domain and merging it into one dataframe***"
   ]
  },
  {
   "cell_type": "code",
   "execution_count": null,
   "id": "7f4a334f",
   "metadata": {},
   "outputs": [],
   "source": [
    "examiner_adapt_avg= domain_df.groupby('Examiner')['Adaptive Developmental Quotient'].agg(np.mean).to_frame()\n",
    "examiner_social_avg=domain_df.groupby('Examiner')['Social-Emotional Developmental Quotient'].agg(np.mean).to_frame()\n",
    "examiner_comm_avg=domain_df.groupby('Examiner')['Communication Developmental Quotient'].agg(np.mean).to_frame()\n",
    "examiner_motor_avg=domain_df.groupby('Examiner')['Motor Developmental Quotient'].agg(np.mean).to_frame()\n",
    "examiner_cog_avg=domain_df.groupby('Examiner')['Cognitive Developmental Quotient'].agg(np.mean).to_frame()"
   ]
  },
  {
   "cell_type": "code",
   "execution_count": null,
   "id": "820dc59b",
   "metadata": {},
   "outputs": [],
   "source": [
    "examiner_avg_df=examiner_adapt_avg.merge(examiner_social_avg, how='outer', on='Examiner')\n",
    "examiner_avg_df=examiner_avg_df.merge(examiner_comm_avg, how='outer', on='Examiner')\n",
    "examiner_avg_df=examiner_avg_df.merge(examiner_motor_avg, how='outer', on='Examiner')\n",
    "examiner_avg_df=examiner_avg_df.merge(examiner_cog_avg, how='outer', on='Examiner')\n",
    "\n",
    "\n",
    "examiner_avg_df"
   ]
  },
  {
   "cell_type": "markdown",
   "id": "c70cc65c",
   "metadata": {},
   "source": [
    "***Adding the counts to the averages for one grand dataframe***"
   ]
  },
  {
   "cell_type": "code",
   "execution_count": null,
   "id": "a33b9ff4",
   "metadata": {},
   "outputs": [],
   "source": [
    "examiner_grand_df=examiner_avg_df.merge(examiner_df, how='inner', on='Examiner').drop(labels='Adaptive-Self Care Examiner', axis='columns')\n",
    "examiner_grand_df.sort_values('Number of Evals',ascending=False)"
   ]
  },
  {
   "cell_type": "code",
   "execution_count": null,
   "id": "4bfb666d",
   "metadata": {},
   "outputs": [],
   "source": [
    "plt.hist(x=examiner_grand_df['Number of Evals'], bins=20)"
   ]
  },
  {
   "cell_type": "code",
   "execution_count": null,
   "id": "3903c69f",
   "metadata": {},
   "outputs": [],
   "source": [
    "n_bins=20\n",
    "fig, axs = plt.subplots(1, 5, sharex=True, sharey=True,figsize=(15,3))\n",
    "\n",
    "axs[0].hist(examiner_grand_df['Adaptive Developmental Quotient'], bins=n_bins, histtype='stepfilled')\n",
    "axs[0].set_title('Adaptive')\n",
    "axs[1].hist(examiner_grand_df['Social-Emotional Developmental Quotient'], bins=n_bins, histtype='stepfilled')\n",
    "axs[1].set_title('Social-Emotional')\n",
    "axs[2].hist(examiner_grand_df['Communication Developmental Quotient'], bins=n_bins, histtype='stepfilled')\n",
    "axs[2].set_title('Communication')\n",
    "axs[3].hist(examiner_grand_df['Motor Developmental Quotient'], bins=n_bins, histtype='stepfilled')\n",
    "axs[3].set_title('Motor')\n",
    "axs[4].hist(examiner_grand_df['Cognitive Developmental Quotient'], bins=n_bins, histtype='stepfilled')\n",
    "axs[4].set_title('Cognitive')\n",
    "\n"
   ]
  },
  {
   "cell_type": "code",
   "execution_count": null,
   "id": "39f7986c",
   "metadata": {},
   "outputs": [],
   "source": [
    "sns.scatterplot(examiner_grand_df, x='Adaptive Developmental Quotient', y='Number of Evals')"
   ]
  },
  {
   "cell_type": "code",
   "execution_count": null,
   "id": "9f6fcc2a",
   "metadata": {},
   "outputs": [],
   "source": [
    "sns.scatterplot(examiner_grand_df, x='Social-Emotional Developmental Quotient', y='Number of Evals')"
   ]
  },
  {
   "cell_type": "code",
   "execution_count": null,
   "id": "5bf29c71",
   "metadata": {},
   "outputs": [],
   "source": [
    "sns.scatterplot(examiner_grand_df, x='Communication Developmental Quotient', y='Number of Evals')"
   ]
  },
  {
   "cell_type": "code",
   "execution_count": null,
   "id": "9eda55db",
   "metadata": {},
   "outputs": [],
   "source": [
    "sns.scatterplot(examiner_grand_df, x='Motor Developmental Quotient', y='Number of Evals')"
   ]
  },
  {
   "cell_type": "code",
   "execution_count": null,
   "id": "82951120",
   "metadata": {},
   "outputs": [],
   "source": [
    "sns.scatterplot(examiner_grand_df, x='Cognitive Developmental Quotient', y='Number of Evals')"
   ]
  },
  {
   "cell_type": "code",
   "execution_count": null,
   "id": "64644b19",
   "metadata": {},
   "outputs": [],
   "source": [
    "fig, axs = plt.subplots(1, 5, sharex=True, sharey=True,figsize=(15,3))\n",
    "\n",
    "axs[0].scatter(x= examiner_grand_df['Adaptive Developmental Quotient'], y=examiner_grand_df['Number of Evals'])\n",
    "axs[0].set_title('Adaptive')\n",
    "axs[1].scatter(examiner_grand_df['Social-Emotional Developmental Quotient'], y=examiner_grand_df['Number of Evals'])\n",
    "axs[1].set_title('Social-Emotional')\n",
    "axs[2].scatter(examiner_grand_df['Communication Developmental Quotient'], y=examiner_grand_df['Number of Evals'])\n",
    "axs[2].set_title('Communication')\n",
    "axs[3].scatter(examiner_grand_df['Motor Developmental Quotient'], y=examiner_grand_df['Number of Evals'])\n",
    "axs[3].set_title('Motor')\n",
    "axs[4].scatter(examiner_grand_df['Cognitive Developmental Quotient'], y=examiner_grand_df['Number of Evals'])\n",
    "axs[4].set_title('Cognitive')"
   ]
  },
  {
   "cell_type": "markdown",
   "id": "dbc3b493",
   "metadata": {},
   "source": [
    "***Some preliminary eda for created dataframes***"
   ]
  },
  {
   "cell_type": "code",
   "execution_count": null,
   "id": "3e6848fd",
   "metadata": {},
   "outputs": [],
   "source": [
    "examiner_avg_df.describe()"
   ]
  },
  {
   "cell_type": "code",
   "execution_count": null,
   "id": "18201772",
   "metadata": {},
   "outputs": [],
   "source": [
    "avg_per_domain = domain_df.describe().reset_index()\n",
    "avg_per_domain"
   ]
  },
  {
   "cell_type": "code",
   "execution_count": null,
   "id": "6ee9ea37",
   "metadata": {},
   "outputs": [],
   "source": [
    "low_cog=examiner_avg_df['Cognitive Developmental Quotient'].sort_values(ascending=True).head(105)\n",
    "low_cog"
   ]
  },
  {
   "cell_type": "code",
   "execution_count": null,
   "id": "51870674",
   "metadata": {},
   "outputs": [],
   "source": [
    "examiner_adapt_count= domain_df.groupby('Examiner')['Adaptive Developmental Quotient'].count().to_frame()\n",
    "examiner_adapt_count"
   ]
  },
  {
   "cell_type": "code",
   "execution_count": null,
   "id": "afc2ed83",
   "metadata": {},
   "outputs": [],
   "source": [
    "adaptive_examiner_df=teis_df[['Child ID','Gender','Adaptive-Self Care Examiner','Adaptive-Personal Responsibility Examiner','Adaptive-Self Care SS','Adaptive-Personal Responsibility SS']]\n",
    "adaptive_examiner_df"
   ]
  },
  {
   "cell_type": "code",
   "execution_count": null,
   "id": "24e2e19b",
   "metadata": {},
   "outputs": [],
   "source": [
    "selfcare_examiner_scores=adaptive_examiner_df.groupby('Adaptive-Self Care Examiner')['Adaptive-Self Care SS'].agg(np.mean).to_frame().reset_index()\n",
    "selfcare_examiner_scores"
   ]
  },
  {
   "cell_type": "code",
   "execution_count": null,
   "id": "e451e758",
   "metadata": {},
   "outputs": [],
   "source": [
    "pr_examiner_scores=adaptive_examiner_df.groupby('Adaptive-Personal Responsibility Examiner')['Adaptive-Personal Responsibility SS'].agg(np.mean).to_frame().reset_index()\n",
    "pr_examiner_scores"
   ]
  },
  {
   "cell_type": "raw",
   "id": "807fce9f",
   "metadata": {},
   "source": [
    "highest_avg_scores=selfcare_examiner_scores[selfcare_examiner_scores['Adaptive-Self Care SS'].sort_values(ascending=False)].head(10)\n",
    "highest_avg_scores\n",
    "#highest_selfcare_examiners=selfcare_examiner_scores[selfcare_examiner_scores['Adaptive-Self Care SS']==highest_avg_scores]\n",
    "#highest_selfcare_examiners"
   ]
  },
  {
   "cell_type": "raw",
   "id": "04eb67d4",
   "metadata": {},
   "source": [
    "examiner_df= teis_df[['Child ID','Program Label','Adaptive-Self Care Examiner', 'Adaptive-Personal Responsibility Examiner', 'Adaptive Sum of Scaled Scores', 'Adaptive Developmental Quotient']]"
   ]
  },
  {
   "cell_type": "code",
   "execution_count": null,
   "id": "2ffc0167",
   "metadata": {},
   "outputs": [],
   "source": []
  },
  {
   "cell_type": "code",
   "execution_count": null,
   "id": "3186dea6",
   "metadata": {},
   "outputs": [],
   "source": []
  },
  {
   "cell_type": "code",
   "execution_count": null,
   "id": "87ba4334",
   "metadata": {},
   "outputs": [],
   "source": []
  }
 ],
 "metadata": {
  "kernelspec": {
   "display_name": "Python 3 (ipykernel)",
   "language": "python",
   "name": "python3"
  },
  "language_info": {
   "codemirror_mode": {
    "name": "ipython",
    "version": 3
   },
   "file_extension": ".py",
   "mimetype": "text/x-python",
   "name": "python",
   "nbconvert_exporter": "python",
   "pygments_lexer": "ipython3",
   "version": "3.11.5"
  }
 },
 "nbformat": 4,
 "nbformat_minor": 5
}
