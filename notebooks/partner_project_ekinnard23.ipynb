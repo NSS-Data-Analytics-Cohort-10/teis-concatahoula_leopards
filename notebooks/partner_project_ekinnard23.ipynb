{
 "cells": [
  {
   "cell_type": "code",
   "execution_count": 6,
   "metadata": {},
   "outputs": [],
   "source": [
    "import pandas as pd\n",
    "import seaborn as sns\n",
    "from matplotlib import pyplot as plt\n",
    "import re\n",
    "import geopandas as gpd\n",
    "import matplotlib.pyplot as plt\n",
    "import folium\n",
    "from folium.plugins import MarkerCluster\n",
    "from folium.plugins import FastMarkerCluster\n"
   ]
  },
  {
   "cell_type": "code",
   "execution_count": 7,
   "metadata": {},
   "outputs": [
    {
     "name": "stdout",
     "output_type": "stream",
     "text": [
      "Requirement already satisfied: xlrd in c:\\users\\eykin\\anaconda3\\envs\\neo_geo\\lib\\site-packages (2.0.1)\n",
      "Note: you may need to restart the kernel to use updated packages.\n"
     ]
    }
   ],
   "source": [
    "pip install xlrd"
   ]
  },
  {
   "cell_type": "code",
   "execution_count": 8,
   "metadata": {},
   "outputs": [
    {
     "name": "stdout",
     "output_type": "stream",
     "text": [
      "Requirement already satisfied: openpyxl in c:\\users\\eykin\\anaconda3\\envs\\neo_geo\\lib\\site-packages (3.1.2)\n",
      "Requirement already satisfied: et-xmlfile in c:\\users\\eykin\\anaconda3\\envs\\neo_geo\\lib\\site-packages (from openpyxl) (1.1.0)\n",
      "Note: you may need to restart the kernel to use updated packages.\n"
     ]
    }
   ],
   "source": [
    "pip install openpyxl"
   ]
  },
  {
   "cell_type": "code",
   "execution_count": 9,
   "metadata": {},
   "outputs": [],
   "source": [
    "teis_df = pd.read_excel(r'/Users/eykin/Desktop/Eddie Documentsls/projects/teis-concatahoula_leopards/data/bdi3_all_evals_for_nss_11_2023.xlsx')\n",
    "\n"
   ]
  },
  {
   "cell_type": "code",
   "execution_count": 10,
   "metadata": {},
   "outputs": [
    {
     "name": "stdout",
     "output_type": "stream",
     "text": [
      "<class 'pandas.core.frame.DataFrame'>\n",
      "RangeIndex: 23947 entries, 0 to 23946\n",
      "Columns: 219 entries, Child ID to Code 10\n",
      "dtypes: datetime64[ns](14), float64(79), object(126)\n",
      "memory usage: 40.0+ MB\n"
     ]
    }
   ],
   "source": [
    "teis_df.info()"
   ]
  },
  {
   "cell_type": "code",
   "execution_count": 11,
   "metadata": {},
   "outputs": [
    {
     "data": {
      "text/plain": [
       "<bound method DataFrame.info of       Child ID Gender Date of Birth Location - Sub Level 1  \\\n",
       "0        44879      F    2022-09-27              Southwest   \n",
       "1        47795      F    2020-12-23      Greater Nashville   \n",
       "2        54340      M    2021-06-22        First Tennessee   \n",
       "3        54344      F    2022-03-07    Southeast Tennessee   \n",
       "4        54515      M    2021-11-04          Memphis Delta   \n",
       "...        ...    ...           ...                    ...   \n",
       "23942  SP03287      F    2023-09-25          Memphis Delta   \n",
       "23943  SP03288      F    2021-05-18          South Central   \n",
       "23944  SP03289      F    2021-10-31          South Central   \n",
       "23945  SP03290      M    2020-03-25          Memphis Delta   \n",
       "23946  SP03291      M    2023-09-18      Greater Nashville   \n",
       "\n",
       "                      Program Label  Adaptive Sum of Scaled Scores  \\\n",
       "0      BDI-3 Eligibility Evaluation                            7.0   \n",
       "1      BDI-3 Eligibility Evaluation                           16.0   \n",
       "2      BDI-3 Eligibility Evaluation                            8.0   \n",
       "3      BDI-3 Eligibility Evaluation                           13.0   \n",
       "4      BDI-3 Eligibility Evaluation                            5.0   \n",
       "...                             ...                            ...   \n",
       "23942  BDI-3 Eligibility Evaluation                           13.0   \n",
       "23943  BDI-3 Eligibility Evaluation                           25.0   \n",
       "23944  BDI-3 Eligibility Evaluation                           21.0   \n",
       "23945       BDI-3 Annual Evaluation                           16.0   \n",
       "23946  BDI-3 Eligibility Evaluation                           11.0   \n",
       "\n",
       "       Adaptive Developmental Quotient Adaptive Percentile Rank  \\\n",
       "0                                 85.0                       16   \n",
       "1                                 88.0                       21   \n",
       "2                                 90.0                       25   \n",
       "3                                115.0                       84   \n",
       "4                                 75.0                        5   \n",
       "...                                ...                      ...   \n",
       "23942                            115.0                       84   \n",
       "23943                            115.0                       84   \n",
       "23944                            103.0                       58   \n",
       "23945                             88.0                       21   \n",
       "23946                            105.0                       63   \n",
       "\n",
       "      Adaptive 95% Confidence Interval         Adaptive RDI  ... Code 1  \\\n",
       "0                                77-97                39/90  ...    NaN   \n",
       "1                                82-96                79/90  ...    NaN   \n",
       "2                               81-101                77/90  ...    NaN   \n",
       "3                              103-123                99/90  ...    NaN   \n",
       "4                                68-88  1990-09-01 00:00:00  ...    NaN   \n",
       "...                                ...                  ...  ...    ...   \n",
       "23942                          103-123                99/90  ...    NaN   \n",
       "23943                          107-121                96/90  ...    NaN   \n",
       "23944                           96-110                92/90  ...    NaN   \n",
       "23945                            82-96                66/90  ...    NaN   \n",
       "23946                           94-114                94/90  ...    NaN   \n",
       "\n",
       "       Code 2 Code 3  Code 4  Code 5 Code 6 Code 7 Code 8 Code 9  Code 10  \n",
       "0         NaN    NaN     NaN     NaN    NaN    NaN    NaN    NaN      NaN  \n",
       "1         NaN    NaN     NaN     NaN    NaN    NaN    NaN    NaN      NaN  \n",
       "2         NaN    NaN     NaN     NaN    NaN    NaN    NaN    NaN      NaN  \n",
       "3         NaN    NaN     NaN     NaN    NaN    NaN    NaN    NaN      NaN  \n",
       "4         NaN    NaN     NaN     NaN    NaN    NaN    NaN    NaN      NaN  \n",
       "...       ...    ...     ...     ...    ...    ...    ...    ...      ...  \n",
       "23942     NaN    NaN     NaN     NaN    NaN    NaN    NaN    NaN      NaN  \n",
       "23943     NaN    NaN     NaN     NaN    NaN    NaN    NaN    NaN      NaN  \n",
       "23944     NaN    NaN     NaN     NaN    NaN    NaN    NaN    NaN      NaN  \n",
       "23945     NaN    NaN     NaN     NaN    NaN    NaN    NaN    NaN      NaN  \n",
       "23946     NaN    NaN     NaN     NaN    NaN    NaN    NaN    NaN      NaN  \n",
       "\n",
       "[23947 rows x 219 columns]>"
      ]
     },
     "execution_count": 11,
     "metadata": {},
     "output_type": "execute_result"
    }
   ],
   "source": [
    "teis_df.info"
   ]
  },
  {
   "cell_type": "code",
   "execution_count": 12,
   "metadata": {},
   "outputs": [],
   "source": [
    "#dropping duplicate rows\n",
    "teis_df_no_dupes = teis_df.drop_duplicates()"
   ]
  },
  {
   "cell_type": "code",
   "execution_count": 13,
   "metadata": {},
   "outputs": [
    {
     "name": "stdout",
     "output_type": "stream",
     "text": [
      "<class 'pandas.core.frame.DataFrame'>\n",
      "Int64Index: 19500 entries, 0 to 23946\n",
      "Columns: 219 entries, Child ID to Code 10\n",
      "dtypes: datetime64[ns](14), float64(79), object(126)\n",
      "memory usage: 32.7+ MB\n"
     ]
    }
   ],
   "source": [
    "teis_df_no_dupes.info()"
   ]
  },
  {
   "cell_type": "markdown",
   "metadata": {},
   "source": [
    "#checking on a known duplicate\n",
    "teis_df_no_dupes.loc['teis_df_no_dupes['Child ID']==404042 ]"
   ]
  },
  {
   "cell_type": "code",
   "execution_count": 14,
   "metadata": {},
   "outputs": [
    {
     "data": {
      "text/html": [
       "<div>\n",
       "<style scoped>\n",
       "    .dataframe tbody tr th:only-of-type {\n",
       "        vertical-align: middle;\n",
       "    }\n",
       "\n",
       "    .dataframe tbody tr th {\n",
       "        vertical-align: top;\n",
       "    }\n",
       "\n",
       "    .dataframe thead th {\n",
       "        text-align: right;\n",
       "    }\n",
       "</style>\n",
       "<table border=\"1\" class=\"dataframe\">\n",
       "  <thead>\n",
       "    <tr style=\"text-align: right;\">\n",
       "      <th></th>\n",
       "      <th>Adaptive Sum of Scaled Scores</th>\n",
       "      <th>Adaptive Developmental Quotient</th>\n",
       "      <th>Adaptive T-Score</th>\n",
       "      <th>Social-Emotional Sum of Scaled Scores</th>\n",
       "      <th>Social-Emotional Developmental Quotient</th>\n",
       "      <th>Social-Emotional T-Score</th>\n",
       "      <th>Communication Sum of Scaled Scores</th>\n",
       "      <th>Communication Developmental Quotient</th>\n",
       "      <th>Communication T-Score</th>\n",
       "      <th>Motor Sum of Scaled Scores</th>\n",
       "      <th>...</th>\n",
       "      <th>Code 1</th>\n",
       "      <th>Code 2</th>\n",
       "      <th>Code 3</th>\n",
       "      <th>Code 4</th>\n",
       "      <th>Code 5</th>\n",
       "      <th>Code 6</th>\n",
       "      <th>Code 7</th>\n",
       "      <th>Code 8</th>\n",
       "      <th>Code 9</th>\n",
       "      <th>Code 10</th>\n",
       "    </tr>\n",
       "  </thead>\n",
       "  <tbody>\n",
       "    <tr>\n",
       "      <th>count</th>\n",
       "      <td>19493.000000</td>\n",
       "      <td>19493.000000</td>\n",
       "      <td>19493.000000</td>\n",
       "      <td>19483.000000</td>\n",
       "      <td>19483.000000</td>\n",
       "      <td>19483.000000</td>\n",
       "      <td>19469.0000</td>\n",
       "      <td>19469.000000</td>\n",
       "      <td>19469.0000</td>\n",
       "      <td>19471.000000</td>\n",
       "      <td>...</td>\n",
       "      <td>0.0</td>\n",
       "      <td>0.0</td>\n",
       "      <td>0.0</td>\n",
       "      <td>0.0</td>\n",
       "      <td>0.0</td>\n",
       "      <td>0.0</td>\n",
       "      <td>0.0</td>\n",
       "      <td>0.0</td>\n",
       "      <td>0.0</td>\n",
       "      <td>0.0</td>\n",
       "    </tr>\n",
       "    <tr>\n",
       "      <th>mean</th>\n",
       "      <td>11.412712</td>\n",
       "      <td>87.435079</td>\n",
       "      <td>41.624583</td>\n",
       "      <td>22.381153</td>\n",
       "      <td>94.470051</td>\n",
       "      <td>46.314428</td>\n",
       "      <td>13.2015</td>\n",
       "      <td>79.604499</td>\n",
       "      <td>36.4030</td>\n",
       "      <td>22.655334</td>\n",
       "      <td>...</td>\n",
       "      <td>NaN</td>\n",
       "      <td>NaN</td>\n",
       "      <td>NaN</td>\n",
       "      <td>NaN</td>\n",
       "      <td>NaN</td>\n",
       "      <td>NaN</td>\n",
       "      <td>NaN</td>\n",
       "      <td>NaN</td>\n",
       "      <td>NaN</td>\n",
       "      <td>NaN</td>\n",
       "    </tr>\n",
       "    <tr>\n",
       "      <th>std</th>\n",
       "      <td>5.822943</td>\n",
       "      <td>17.438731</td>\n",
       "      <td>11.612715</td>\n",
       "      <td>7.519204</td>\n",
       "      <td>16.695712</td>\n",
       "      <td>11.132555</td>\n",
       "      <td>6.7228</td>\n",
       "      <td>20.168400</td>\n",
       "      <td>13.4456</td>\n",
       "      <td>8.067995</td>\n",
       "      <td>...</td>\n",
       "      <td>NaN</td>\n",
       "      <td>NaN</td>\n",
       "      <td>NaN</td>\n",
       "      <td>NaN</td>\n",
       "      <td>NaN</td>\n",
       "      <td>NaN</td>\n",
       "      <td>NaN</td>\n",
       "      <td>NaN</td>\n",
       "      <td>NaN</td>\n",
       "      <td>NaN</td>\n",
       "    </tr>\n",
       "    <tr>\n",
       "      <th>min</th>\n",
       "      <td>1.000000</td>\n",
       "      <td>46.000000</td>\n",
       "      <td>14.000000</td>\n",
       "      <td>2.000000</td>\n",
       "      <td>46.000000</td>\n",
       "      <td>14.000000</td>\n",
       "      <td>2.0000</td>\n",
       "      <td>46.000000</td>\n",
       "      <td>14.0000</td>\n",
       "      <td>2.000000</td>\n",
       "      <td>...</td>\n",
       "      <td>NaN</td>\n",
       "      <td>NaN</td>\n",
       "      <td>NaN</td>\n",
       "      <td>NaN</td>\n",
       "      <td>NaN</td>\n",
       "      <td>NaN</td>\n",
       "      <td>NaN</td>\n",
       "      <td>NaN</td>\n",
       "      <td>NaN</td>\n",
       "      <td>NaN</td>\n",
       "    </tr>\n",
       "    <tr>\n",
       "      <th>25%</th>\n",
       "      <td>7.000000</td>\n",
       "      <td>76.000000</td>\n",
       "      <td>34.000000</td>\n",
       "      <td>17.000000</td>\n",
       "      <td>84.000000</td>\n",
       "      <td>39.000000</td>\n",
       "      <td>8.0000</td>\n",
       "      <td>64.000000</td>\n",
       "      <td>26.0000</td>\n",
       "      <td>17.000000</td>\n",
       "      <td>...</td>\n",
       "      <td>NaN</td>\n",
       "      <td>NaN</td>\n",
       "      <td>NaN</td>\n",
       "      <td>NaN</td>\n",
       "      <td>NaN</td>\n",
       "      <td>NaN</td>\n",
       "      <td>NaN</td>\n",
       "      <td>NaN</td>\n",
       "      <td>NaN</td>\n",
       "      <td>NaN</td>\n",
       "    </tr>\n",
       "    <tr>\n",
       "      <th>50%</th>\n",
       "      <td>11.000000</td>\n",
       "      <td>88.000000</td>\n",
       "      <td>42.000000</td>\n",
       "      <td>22.000000</td>\n",
       "      <td>96.000000</td>\n",
       "      <td>47.000000</td>\n",
       "      <td>13.0000</td>\n",
       "      <td>79.000000</td>\n",
       "      <td>36.0000</td>\n",
       "      <td>22.000000</td>\n",
       "      <td>...</td>\n",
       "      <td>NaN</td>\n",
       "      <td>NaN</td>\n",
       "      <td>NaN</td>\n",
       "      <td>NaN</td>\n",
       "      <td>NaN</td>\n",
       "      <td>NaN</td>\n",
       "      <td>NaN</td>\n",
       "      <td>NaN</td>\n",
       "      <td>NaN</td>\n",
       "      <td>NaN</td>\n",
       "    </tr>\n",
       "    <tr>\n",
       "      <th>75%</th>\n",
       "      <td>15.000000</td>\n",
       "      <td>100.000000</td>\n",
       "      <td>50.000000</td>\n",
       "      <td>28.000000</td>\n",
       "      <td>106.000000</td>\n",
       "      <td>54.000000</td>\n",
       "      <td>18.0000</td>\n",
       "      <td>94.000000</td>\n",
       "      <td>46.0000</td>\n",
       "      <td>28.000000</td>\n",
       "      <td>...</td>\n",
       "      <td>NaN</td>\n",
       "      <td>NaN</td>\n",
       "      <td>NaN</td>\n",
       "      <td>NaN</td>\n",
       "      <td>NaN</td>\n",
       "      <td>NaN</td>\n",
       "      <td>NaN</td>\n",
       "      <td>NaN</td>\n",
       "      <td>NaN</td>\n",
       "      <td>NaN</td>\n",
       "    </tr>\n",
       "    <tr>\n",
       "      <th>max</th>\n",
       "      <td>36.000000</td>\n",
       "      <td>148.000000</td>\n",
       "      <td>82.000000</td>\n",
       "      <td>53.000000</td>\n",
       "      <td>154.000000</td>\n",
       "      <td>86.000000</td>\n",
       "      <td>38.0000</td>\n",
       "      <td>154.000000</td>\n",
       "      <td>86.0000</td>\n",
       "      <td>50.000000</td>\n",
       "      <td>...</td>\n",
       "      <td>NaN</td>\n",
       "      <td>NaN</td>\n",
       "      <td>NaN</td>\n",
       "      <td>NaN</td>\n",
       "      <td>NaN</td>\n",
       "      <td>NaN</td>\n",
       "      <td>NaN</td>\n",
       "      <td>NaN</td>\n",
       "      <td>NaN</td>\n",
       "      <td>NaN</td>\n",
       "    </tr>\n",
       "  </tbody>\n",
       "</table>\n",
       "<p>8 rows × 79 columns</p>\n",
       "</div>"
      ],
      "text/plain": [
       "       Adaptive Sum of Scaled Scores  Adaptive Developmental Quotient  \\\n",
       "count                   19493.000000                     19493.000000   \n",
       "mean                       11.412712                        87.435079   \n",
       "std                         5.822943                        17.438731   \n",
       "min                         1.000000                        46.000000   \n",
       "25%                         7.000000                        76.000000   \n",
       "50%                        11.000000                        88.000000   \n",
       "75%                        15.000000                       100.000000   \n",
       "max                        36.000000                       148.000000   \n",
       "\n",
       "       Adaptive T-Score  Social-Emotional Sum of Scaled Scores  \\\n",
       "count      19493.000000                           19483.000000   \n",
       "mean          41.624583                              22.381153   \n",
       "std           11.612715                               7.519204   \n",
       "min           14.000000                               2.000000   \n",
       "25%           34.000000                              17.000000   \n",
       "50%           42.000000                              22.000000   \n",
       "75%           50.000000                              28.000000   \n",
       "max           82.000000                              53.000000   \n",
       "\n",
       "       Social-Emotional Developmental Quotient  Social-Emotional T-Score  \\\n",
       "count                             19483.000000              19483.000000   \n",
       "mean                                 94.470051                 46.314428   \n",
       "std                                  16.695712                 11.132555   \n",
       "min                                  46.000000                 14.000000   \n",
       "25%                                  84.000000                 39.000000   \n",
       "50%                                  96.000000                 47.000000   \n",
       "75%                                 106.000000                 54.000000   \n",
       "max                                 154.000000                 86.000000   \n",
       "\n",
       "       Communication Sum of Scaled Scores  \\\n",
       "count                          19469.0000   \n",
       "mean                              13.2015   \n",
       "std                                6.7228   \n",
       "min                                2.0000   \n",
       "25%                                8.0000   \n",
       "50%                               13.0000   \n",
       "75%                               18.0000   \n",
       "max                               38.0000   \n",
       "\n",
       "       Communication Developmental Quotient  Communication T-Score  \\\n",
       "count                          19469.000000             19469.0000   \n",
       "mean                              79.604499                36.4030   \n",
       "std                               20.168400                13.4456   \n",
       "min                               46.000000                14.0000   \n",
       "25%                               64.000000                26.0000   \n",
       "50%                               79.000000                36.0000   \n",
       "75%                               94.000000                46.0000   \n",
       "max                              154.000000                86.0000   \n",
       "\n",
       "       Motor Sum of Scaled Scores  ...  Code 1  Code 2  Code 3  Code 4  \\\n",
       "count                19471.000000  ...     0.0     0.0     0.0     0.0   \n",
       "mean                    22.655334  ...     NaN     NaN     NaN     NaN   \n",
       "std                      8.067995  ...     NaN     NaN     NaN     NaN   \n",
       "min                      2.000000  ...     NaN     NaN     NaN     NaN   \n",
       "25%                     17.000000  ...     NaN     NaN     NaN     NaN   \n",
       "50%                     22.000000  ...     NaN     NaN     NaN     NaN   \n",
       "75%                     28.000000  ...     NaN     NaN     NaN     NaN   \n",
       "max                     50.000000  ...     NaN     NaN     NaN     NaN   \n",
       "\n",
       "       Code 5  Code 6  Code 7  Code 8  Code 9  Code 10  \n",
       "count     0.0     0.0     0.0     0.0     0.0      0.0  \n",
       "mean      NaN     NaN     NaN     NaN     NaN      NaN  \n",
       "std       NaN     NaN     NaN     NaN     NaN      NaN  \n",
       "min       NaN     NaN     NaN     NaN     NaN      NaN  \n",
       "25%       NaN     NaN     NaN     NaN     NaN      NaN  \n",
       "50%       NaN     NaN     NaN     NaN     NaN      NaN  \n",
       "75%       NaN     NaN     NaN     NaN     NaN      NaN  \n",
       "max       NaN     NaN     NaN     NaN     NaN      NaN  \n",
       "\n",
       "[8 rows x 79 columns]"
      ]
     },
     "execution_count": 14,
     "metadata": {},
     "output_type": "execute_result"
    }
   ],
   "source": [
    "teis_df_no_dupes.describe()"
   ]
  },
  {
   "cell_type": "code",
   "execution_count": 20,
   "metadata": {},
   "outputs": [
    {
     "ename": "SyntaxError",
     "evalue": "invalid syntax (3054672049.py, line 1)",
     "output_type": "error",
     "traceback": [
      "\u001b[1;36m  Cell \u001b[1;32mIn[20], line 1\u001b[1;36m\u001b[0m\n\u001b[1;33m    type(Adaptive Developmental Quotient[0])\u001b[0m\n\u001b[1;37m                  ^\u001b[0m\n\u001b[1;31mSyntaxError\u001b[0m\u001b[1;31m:\u001b[0m invalid syntax\n"
     ]
    }
   ],
   "source": [
    "type(Adaptive Developmental Quotient[0])"
   ]
  },
  {
   "cell_type": "code",
   "execution_count": 21,
   "metadata": {},
   "outputs": [],
   "source": [
    "ad_rdi_df = teis_df_no_dupes['Adaptive RDI']"
   ]
  },
  {
   "cell_type": "code",
   "execution_count": 22,
   "metadata": {},
   "outputs": [
    {
     "data": {
      "text/plain": [
       "'9/90'"
      ]
     },
     "execution_count": 22,
     "metadata": {},
     "output_type": "execute_result"
    }
   ],
   "source": [
    "re.findall(f'1990, +1.+', '1990-09-01 00:00:00')\n",
    "re.sub('1990.+1.+', '9/90', '1990-09-01 00:00:00')"
   ]
  },
  {
   "cell_type": "code",
   "execution_count": 24,
   "metadata": {},
   "outputs": [
    {
     "data": {
      "text/plain": [
       "0                  39/90\n",
       "1                  79/90\n",
       "2                  77/90\n",
       "3                  99/90\n",
       "4    1990-09-01 00:00:00\n",
       "Name: Adaptive RDI, dtype: object"
      ]
     },
     "execution_count": 24,
     "metadata": {},
     "output_type": "execute_result"
    }
   ],
   "source": [
    "ad_rdi_df.head()"
   ]
  },
  {
   "cell_type": "code",
   "execution_count": 26,
   "metadata": {},
   "outputs": [
    {
     "data": {
      "text/plain": [
       "'9/90'"
      ]
     },
     "execution_count": 26,
     "metadata": {},
     "output_type": "execute_result"
    }
   ],
   "source": [
    "def date_fix(date):\n",
    "    return re.sub('1990.+1.+', '9/90', date)\n",
    "\n",
    "date_fix('1990-09-01 00:00:00')"
   ]
  },
  {
   "cell_type": "code",
   "execution_count": 28,
   "metadata": {},
   "outputs": [
    {
     "ename": "SyntaxError",
     "evalue": "EOL while scanning string literal (1941935044.py, line 1)",
     "output_type": "error",
     "traceback": [
      "\u001b[1;36m  Cell \u001b[1;32mIn[28], line 1\u001b[1;36m\u001b[0m\n\u001b[1;33m    domain_df = teis_df[[\"Child ID', 'Gender', 'Adaptive Developmental Quotient', 'Social-Emotional Developmental Quotient', 'Communication Developmental Quotient', 'Motor Developmental Quotient', 'Cognitive Developmental Quotient', 'BDI-3 Total Developmental Quotient']]\u001b[0m\n\u001b[1;37m                                                                                                                                                                                                                                                                               ^\u001b[0m\n\u001b[1;31mSyntaxError\u001b[0m\u001b[1;31m:\u001b[0m EOL while scanning string literal\n"
     ]
    }
   ],
   "source": [
    "domain_df = teis_df[[\"Child ID', 'Gender', 'Adaptive Developmental Quotient', 'Social-Emotional Developmental Quotient', 'Communication Developmental Quotient', 'Motor Developmental Quotient', 'Cognitive Developmental Quotient', 'BDI-3 Total Developmental Quotient']]\n",
    "domain_df                     "
   ]
  },
  {
   "cell_type": "code",
   "execution_count": null,
   "metadata": {},
   "outputs": [],
   "source": [
    "u_gender=domain_df.loc[domain_df['Gender']--'U']\n",
    "u_gender"
   ]
  },
  {
   "cell_type": "code",
   "execution_count": null,
   "metadata": {},
   "outputs": [],
   "source": [
    "adaptive_avg=domain_df.groupby('Gender')['Adaptive Deveolopmental Quotient'].agg(np.mean)\n",
    "adaptive_avg"
   ]
  }
 ],
 "metadata": {
  "kernelspec": {
   "display_name": "neo_geo",
   "language": "python",
   "name": "python3"
  },
  "language_info": {
   "codemirror_mode": {
    "name": "ipython",
    "version": 3
   },
   "file_extension": ".py",
   "mimetype": "text/x-python",
   "name": "python",
   "nbconvert_exporter": "python",
   "pygments_lexer": "ipython3",
   "version": "3.9.16"
  }
 },
 "nbformat": 4,
 "nbformat_minor": 2
}
